{
 "cells": [
  {
   "cell_type": "code",
   "execution_count": 33,
   "id": "b982a2c9-07d1-486d-907e-dcda66999475",
   "metadata": {},
   "outputs": [],
   "source": [
    "import os,sys\n",
    "import json\n",
    "import random\n",
    "random.seed = 1024"
   ]
  },
  {
   "cell_type": "code",
   "execution_count": 34,
   "id": "13483d9b-910f-49ce-b62c-41edd25b0fac",
   "metadata": {},
   "outputs": [],
   "source": [
    "top_dir = '/root/database/mount/a100_nas/peixunban/002924_lichuan/sft/'\n",
    "instruct_path = os.path.join(top_dir, 'OceanInstruct.jsonl')\n",
    "benchmark_path = os.path.join(top_dir, 'OceanBench.txt')\n",
    "\n",
    "sft_instruct_path = os.path.join(top_dir, 'sft_OceanInstruct.jsonl')\n",
    "sft_benchmark_path = os.path.join(top_dir, 'sft_OceanBench.txt')"
   ]
  },
  {
   "cell_type": "code",
   "execution_count": 35,
   "id": "01b24435-4d25-4489-afda-72c5c36dd798",
   "metadata": {},
   "outputs": [],
   "source": [
    "sft_instruct = []\n",
    "sft_benchmark = []"
   ]
  },
  {
   "cell_type": "code",
   "execution_count": 36,
   "id": "48733c2b-f23e-49a7-95d8-3390486047c6",
   "metadata": {},
   "outputs": [],
   "source": [
    "with open(instruct_path, 'r') as fin:\n",
    "    for line in fin.readlines():\n",
    "        data_line = json.loads(line.strip())\n",
    "        instruction = data_line['en_input']\n",
    "        input = ''\n",
    "        output = data_line['en_output']\n",
    "        sft_line = {\n",
    "            'instruction': instruction,\n",
    "            'input': input,\n",
    "            'output': output\n",
    "        }\n",
    "        hash_id = abs(hash(f'{json.dumps(sft_line, ensure_ascii=False)}\\n'))\n",
    "        sft_line['id'] = hash_id\n",
    "        sft_instruct.append(f'{json.dumps(sft_line, ensure_ascii=False)}\\n')"
   ]
  },
  {
   "cell_type": "code",
   "execution_count": 37,
   "id": "c60aadfd-c929-429b-9fbd-b472e2dcea73",
   "metadata": {},
   "outputs": [],
   "source": [
    "with open(instruct_path, 'r') as fin:\n",
    "    for line in fin.readlines():\n",
    "        data_line = json.loads(line.strip())\n",
    "        instruction = data_line['en_input']\n",
    "        input = ''\n",
    "        output = data_line['en_output']\n",
    "        sft_line = {\n",
    "            'instruction': instruction,\n",
    "            'input': input,\n",
    "            'output': output\n",
    "        }\n",
    "        hash_id = abs(hash(f'{json.dumps(sft_line, ensure_ascii=False)}\\n'))\n",
    "        sft_line['id'] = hash_id\n",
    "        sft_benchmark.append(f'{json.dumps(sft_line, ensure_ascii=False)}\\n')"
   ]
  },
  {
   "cell_type": "code",
   "execution_count": 38,
   "id": "2a04554d-a489-4758-b271-884819b3c4cb",
   "metadata": {},
   "outputs": [],
   "source": [
    "random.shuffle(sft_benchmark)\n",
    "sft_benchmark_small = sft_benchmark[:100]\n",
    "sft_benchmark = sft_benchmark[100:]"
   ]
  },
  {
   "cell_type": "code",
   "execution_count": 39,
   "id": "8590e2bd-6589-4b9f-b290-db2ac52317e7",
   "metadata": {},
   "outputs": [],
   "source": [
    "with open(sft_instruct_path, 'w') as fout:\n",
    "    for line in sft_instruct:\n",
    "        fout.write(line)\n",
    "    for line in sft_benchmark:\n",
    "        fout.write(line)\n",
    "    fout.flush()\n",
    "\n",
    "with open(sft_benchmark_path, 'w') as fout:\n",
    "    for line in sft_benchmark_small:\n",
    "        fout.write(line)\n",
    "    fout.flush()"
   ]
  }
 ],
 "metadata": {
  "kernelspec": {
   "display_name": "Python 3 (ipykernel)",
   "language": "python",
   "name": "python3"
  },
  "language_info": {
   "codemirror_mode": {
    "name": "ipython",
    "version": 3
   },
   "file_extension": ".py",
   "mimetype": "text/x-python",
   "name": "python",
   "nbconvert_exporter": "python",
   "pygments_lexer": "ipython3",
   "version": "3.10.14"
  }
 },
 "nbformat": 4,
 "nbformat_minor": 5
}

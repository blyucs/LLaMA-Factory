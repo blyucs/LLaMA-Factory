{
 "cells": [
  {
   "cell_type": "code",
   "execution_count": 35,
   "id": "b982a2c9-07d1-486d-907e-dcda66999475",
   "metadata": {},
   "outputs": [],
   "source": [
    "import os,sys\n",
    "import json\n",
    "import random\n",
    "random.seed = 1024\n",
    "import pandas as pd\n",
    "from tqdm import tqdm"
   ]
  },
  {
   "cell_type": "code",
   "execution_count": 36,
   "id": "a4af4497-1b5c-44e4-9a73-7e430b47dbe9",
   "metadata": {},
   "outputs": [
    {
     "data": {
      "text/plain": [
       "{'instruction': '人类指令（必填）',\n",
       " 'input': '人类输入（选填）',\n",
       " 'output': '模型回答（必填）',\n",
       " 'system': '系统提示词（选填）',\n",
       " 'history': [['第一轮指令（选填）', '第一轮回答（选填）'], ['第二轮指令（选填）', '第二轮回答（选填）']]}"
      ]
     },
     "execution_count": 36,
     "metadata": {},
     "output_type": "execute_result"
    }
   ],
   "source": [
    "{\n",
    "    \"instruction\": \"人类指令（必填）\",\n",
    "    \"input\": \"人类输入（选填）\",\n",
    "    \"output\": \"模型回答（必填）\",\n",
    "    \"system\": \"系统提示词（选填）\",\n",
    "    \"history\": [\n",
    "      [\"第一轮指令（选填）\", \"第一轮回答（选填）\"],\n",
    "      [\"第二轮指令（选填）\", \"第二轮回答（选填）\"]\n",
    "    ]\n",
    "  }"
   ]
  },
  {
   "cell_type": "code",
   "execution_count": 37,
   "id": "bb60a653-b038-4e9e-bebc-43e24d23b303",
   "metadata": {},
   "outputs": [],
   "source": [
    "def find_files(folder_path, end_strs):\n",
    "    txt_files = []\n",
    "    for root, dirs, files in os.walk(folder_path):\n",
    "        for file in files:\n",
    "            if len([1 for end_str in end_strs if file.endswith(end_str)]) > 0:\n",
    "                txt_files.append(os.path.join(root, file))\n",
    "    return txt_files"
   ]
  },
  {
   "cell_type": "code",
   "execution_count": 38,
   "id": "46f6494d-7ccb-474c-8466-8b5da69078bc",
   "metadata": {},
   "outputs": [
    {
     "data": {
      "text/plain": [
       "['/root/a100_nas_lvbo/peixunban/002754_lvbo/SFT/00_dataset/tulu-3-personas-math/data/train-00001-of-00002.parquet',\n",
       " '/root/a100_nas_lvbo/peixunban/002754_lvbo/SFT/00_dataset/tulu-3-personas-math/data/train-00000-of-00002.parquet']"
      ]
     },
     "execution_count": 38,
     "metadata": {},
     "output_type": "execute_result"
    }
   ],
   "source": [
    "data_top_dir = '/root/a100_nas_lvbo/peixunban/002754_lvbo/SFT/00_dataset/tulu-3-personas-math'\n",
    "data_files = find_files(data_top_dir, ['parquet'])\n",
    "data_files"
   ]
  },
  {
   "cell_type": "code",
   "execution_count": 39,
   "id": "492537ef-e70e-4142-85b0-a20e292faa1b",
   "metadata": {},
   "outputs": [
    {
     "name": "stderr",
     "output_type": "stream",
     "text": [
      "74980it [00:14, 5329.77it/s]\n",
      "74980it [00:14, 5326.22it/s]\n"
     ]
    }
   ],
   "source": [
    "sft_data = []\n",
    "for data_file in data_files:\n",
    "    df = pd.read_parquet(data_file)\n",
    "    for i, row in tqdm(df.iterrows()):\n",
    "        messages = list(row['messages'])\n",
    "        id = row['id']\n",
    "        msg_history = []\n",
    "        begin = 0 if messages[0]['role'] == 'user' else 1\n",
    "        for i in range((len(messages)) // 2):\n",
    "            user_i = begin + i*2\n",
    "            syst_i = user_i + 1\n",
    "            if max(syst_i, user_i) >= len(messages):\n",
    "                continue\n",
    "            input = messages[user_i]['content']\n",
    "            output = messages[syst_i]['content']\n",
    "            if messages[user_i]['role'] != 'user' or messages[syst_i]['role'] != 'assistant':\n",
    "                continue\n",
    "            msg_history.append([input, output])\n",
    "        if len(msg_history) == 0:\n",
    "            continue\n",
    "        sample = {\n",
    "            'instruction': msg_history[-1][0],\n",
    "            'input': '',\n",
    "            'output': msg_history[-1][1],\n",
    "            \"history\": msg_history[:-1],\n",
    "            'source': id\n",
    "        }\n",
    "        sft_data.append(sample)"
   ]
  },
  {
   "cell_type": "code",
   "execution_count": 40,
   "id": "073ed42f-0288-47ba-86fd-849d20885044",
   "metadata": {},
   "outputs": [],
   "source": [
    "target_output_path=\"/root/a100_nas_lvbo/peixunban/002754_lvbo/SFT/00_dataset/tulu-3-personas-math-149K.jsonl\""
   ]
  },
  {
   "cell_type": "code",
   "execution_count": 41,
   "id": "3c86d8c1-4f01-4afd-905a-b22ebdd0d96d",
   "metadata": {},
   "outputs": [
    {
     "data": {
      "text/plain": [
       "[]"
      ]
     },
     "execution_count": 41,
     "metadata": {},
     "output_type": "execute_result"
    }
   ],
   "source": [
    "len(sft_data)\n",
    "sft_data[100:100+10]\n",
    "filtered_data = [item for item in sft_data if len(item.get(\"history\", [])) > 0]\n",
    "filtered_data"
   ]
  },
  {
   "cell_type": "code",
   "execution_count": 43,
   "id": "4bf02337-6a30-49a7-ae66-e664b26fea7b",
   "metadata": {},
   "outputs": [
    {
     "name": "stderr",
     "output_type": "stream",
     "text": [
      "100%|███████████████████████████████████████████████████████████████████████████████████████████████████████████████████████████████████████████████████████████████████████████████████████████████████████████████████████████████████████████████████████████████████████| 149960/149960 [00:22<00:00, 6536.72it/s]\n"
     ]
    }
   ],
   "source": [
    "sft_data_json = []\n",
    "for sample in tqdm(sft_data):\n",
    "    sft_data_json.append(json.dumps(sample, ensure_ascii=False))"
   ]
  },
  {
   "cell_type": "code",
   "execution_count": 44,
   "id": "53f51612-a03b-4ca8-b9e6-eb640c993675",
   "metadata": {},
   "outputs": [],
   "source": [
    "with open(target_output_path, 'w') as fout:\n",
    "    for line in sft_data_json:\n",
    "        fout.write(f'{line}\\n')\n",
    "    fout.flush()"
   ]
  },
  {
   "cell_type": "code",
   "execution_count": 45,
   "id": "bbcaf090-3eee-478a-a136-9d8f6db45141",
   "metadata": {},
   "outputs": [
    {
     "data": {
      "text/plain": [
       "['/root/a100_nas_lvbo/peixunban/002754_lvbo/SFT/00_dataset/tulu-3-personas-math-grade/data/train-00000-of-00001.parquet']"
      ]
     },
     "execution_count": 45,
     "metadata": {},
     "output_type": "execute_result"
    }
   ],
   "source": [
    "data_top_dir = '/root/a100_nas_lvbo/peixunban/002754_lvbo/SFT/00_dataset/tulu-3-personas-math-grade'\n",
    "data_files = find_files(data_top_dir, ['parquet'])\n",
    "data_files"
   ]
  },
  {
   "cell_type": "code",
   "execution_count": 47,
   "id": "f98544a8-1bdd-4543-b476-c37748d80758",
   "metadata": {},
   "outputs": [],
   "source": [
    "target_output_path1=\"/root/a100_nas_lvbo/peixunban/002754_lvbo/SFT/00_dataset/tulu-3-personas-math-grade-50k.jsonl\""
   ]
  },
  {
   "cell_type": "code",
   "execution_count": 48,
   "id": "99e1e90b-f1c6-4466-a857-60949f9bad61",
   "metadata": {},
   "outputs": [
    {
     "name": "stderr",
     "output_type": "stream",
     "text": [
      "49980it [00:09, 5117.19it/s]\n"
     ]
    }
   ],
   "source": [
    "sft_data_1 = []\n",
    "for data_file in data_files:\n",
    "    df = pd.read_parquet(data_file)\n",
    "    for i, row in tqdm(df.iterrows()):\n",
    "        messages = list(row['messages'])\n",
    "        id = row['id']\n",
    "        msg_history = []\n",
    "        begin = 0 if messages[0]['role'] == 'user' else 1\n",
    "        for i in range((len(messages)) // 2):\n",
    "            user_i = begin + i*2\n",
    "            syst_i = user_i + 1\n",
    "            if max(syst_i, user_i) >= len(messages):\n",
    "                continue\n",
    "            input = messages[user_i]['content']\n",
    "            output = messages[syst_i]['content']\n",
    "            if messages[user_i]['role'] != 'user' or messages[syst_i]['role'] != 'assistant':\n",
    "                continue\n",
    "            msg_history.append([input, output])\n",
    "        if len(msg_history) == 0:\n",
    "            continue\n",
    "        sample = {\n",
    "            'instruction': msg_history[-1][0],\n",
    "            'input': '',\n",
    "            'output': msg_history[-1][1],\n",
    "            \"history\": msg_history[:-1],\n",
    "            'source': id\n",
    "        }\n",
    "        sft_data_1.append(sample)"
   ]
  },
  {
   "cell_type": "code",
   "execution_count": 51,
   "id": "c8ca08f4-4be3-4ac2-8216-ef9bdc9fa34d",
   "metadata": {},
   "outputs": [
    {
     "name": "stderr",
     "output_type": "stream",
     "text": [
      "100%|████████████████████████████████████████████████████████████████████████████████████████████████████████████████████████████████████████████████████████████████████████████████████████████████████████████████████████████████████████████████████████████████████████| 49980/49980 [00:03<00:00, 14515.99it/s]\n"
     ]
    }
   ],
   "source": [
    "sft_data_json_1 = []\n",
    "for sample in tqdm(sft_data_1):\n",
    "    sft_data_json_1.append(json.dumps(sample, ensure_ascii=False))"
   ]
  },
  {
   "cell_type": "code",
   "execution_count": 52,
   "id": "b58002df-bdf1-41e9-88d8-1f5f1a621b20",
   "metadata": {},
   "outputs": [],
   "source": [
    "with open(target_output_path1, 'w') as fout:\n",
    "    for line in sft_data_json_1:\n",
    "        fout.write(f'{line}\\n')\n",
    "    fout.flush()"
   ]
  },
  {
   "cell_type": "code",
   "execution_count": 34,
   "id": "a7d98c55-ceef-4181-98c7-481c9e5fe4c9",
   "metadata": {},
   "outputs": [
    {
     "data": {
      "text/plain": [
       "[{'instruction': \"A young entrepreneur named Alex believes that the phases of the moon have an impact on their business decisions. Alex decides to consult an astrologer to plan the launch of a new product. The astrologer suggests launching the product in 7 days, during the waxing crescent phase, which is believed to bring growth and success. Alex also wants to align the launch with a day when the moon is at its highest position in the sky, which happens every 3 days.\\n\\nIf today is Monday, calculate the day of the week Alex should launch the product to align with both the waxing crescent phase and the moon's highest position, ensuring the launch happens in 7 days.\",\n",
       "  'input': '',\n",
       "  'output': \"To solve Alex's problem, we need to determine the day of the week 7 days from today, which is Monday, and check if that day also coincides with a day when the moon is at its highest position in the sky, which occurs every 3 days.\\n\\nLet's break this down step-by-step:\\n\\n1. **Determine the day of the week 7 days from now:**\\n   - Today is Monday.\\n   - After 7 days, it will be the same day of the week as today.\\n   - Therefore, 7 days from Monday is again Monday.\\n\\n2. **Check if Monday aligns with the moon's highest position:**\\n   - The moon reaches its highest position every 3 days.\\n   - We need to determine if 7 days from today (Monday) aligns with this cycle.\\n   - Let's list the days when the moon is at its highest position starting from today.\\n     - Day 0: Today (Monday) - Moon highest position (since the cycle starts now)\\n     - Day 3: Thursday - Moon highest position\\n     - Day 6: Sunday - Moon highest position\\n   - Day 7 (next Monday) is not aligned with the moon's highest position because 7 is not a multiple of 3.\\n\\n3. **Find the nearest day after 7 days when the moon is at its highest position:**\\n   - Since Day 7 is Monday, we calculate the next day in the cycle when the moon is at its highest:\\n     - Day 9: Wednesday\\n   - Wednesday is the next day after 7 days from today when the moon reaches its highest position, which is 9 days from today.\\n\\n4. **Check if 9 days from now is still within the waxing crescent phase:**\\n   - The astrologer advised launching in 7 days during the waxing crescent phase.\\n   - Assuming the waxing crescent phase lasts at least 9 days, which is often the case as the waxing moon phase can last around 7-14 days, Wednesday should still be within the acceptable phase.\\n\\nGiven this analysis, Alex should launch the product on Wednesday to align with both the waxing crescent phase and the moon's highest position.\\n\\n#### Wednesday\",\n",
       "  'history': [],\n",
       "  'source': 'personas_math_easy_813fbtcyvgrif6uit4b2liho'},\n",
       " {'instruction': 'Jamie is a loyal fan of the Raised By Squirrels comic book series. She has a collection of 48 comic books from the series. Recently, she learned that the series is releasing a new set of 12 comic books this year, and she plans to buy them all. Each comic book costs $5. Jamie saved up $60 by doing extra chores, and she plans to spend this money on the new comic books. How much more money does Jamie need to buy all the new comic books when they are released?',\n",
       "  'input': '',\n",
       "  'output': 'To solve this problem, we will determine the total cost of the new comic books Jamie wants to buy, and then subtract the amount of money she has saved to figure out how much more money she needs.\\n\\n1. **Determine the total cost of the new comic books:**\\n   - Jamie plans to buy all 12 comic books.\\n   - Each comic book costs $5.\\n   - The total cost for the 12 new comic books is given by:\\n     \\\\[\\n     \\\\text{Total cost} = 12 \\\\times 5 = 60 \\\\text{ dollars}\\n     \\\\]\\n\\n2. **Calculate how much money Jamie has saved:**\\n   - Jamie has saved $60.\\n\\n3. **Determine how much more money Jamie needs:**\\n   - Jamie needs to pay $60 for the comic books, and she has saved $60.\\n   - The additional amount of money she needs is:\\n     \\\\[\\n     \\\\text{Amount needed} = \\\\text{Total cost} - \\\\text{Amount saved} = 60 - 60 = 0 \\\\text{ dollars}\\n     \\\\]\\n\\nJamie does not need any more money because she has exactly the amount required.\\n\\n#### 0',\n",
       "  'history': [],\n",
       "  'source': 'personas_math_easy_yesm1yyonwnv0lso4d8etzh4'},\n",
       " {'instruction': \"During Black History Month, Mrs. Thompson, an educator focused on women's and African American history, designed a special project for her class. She decided to create a timeline of important figures and events to instill a sense of pride and identity in her students. She included 5 key African American women, each representing a decade from the 1900s to the 1950s. For each woman, she listed 4 major achievements or contributions. If Mrs. Thompson wanted to include 3 additional figures from the 1960s to the 1980s, each with 5 achievements, how many total achievements or contributions will be documented on the timeline?\",\n",
       "  'input': '',\n",
       "  'output': 'To solve this problem, we need to calculate the total number of achievements or contributions documented on the timeline.\\n\\n1. **Initial Group of Women (1900s to 1950s):**\\n   - There are 5 key African American women.\\n   - Each woman has 4 major achievements or contributions.\\n\\n   We calculate the total achievements for these women as follows:\\n   \\\\[\\n   5 \\\\text{ women} \\\\times 4 \\\\text{ achievements/woman} = 20 \\\\text{ achievements}\\n   \\\\]\\n\\n2. **Additional Figures (1960s to 1980s):**\\n   - There are 3 additional figures.\\n   - Each figure has 5 achievements.\\n\\n   We calculate the total achievements for these additional figures as follows:\\n   \\\\[\\n   3 \\\\text{ figures} \\\\times 5 \\\\text{ achievements/figure} = 15 \\\\text{ achievements}\\n   \\\\]\\n\\n3. **Total Achievements:**\\n   - Sum the achievements from both groups.\\n\\n   \\\\[\\n   20 \\\\text{ achievements (1900s to 1950s)} + 15 \\\\text{ achievements (1960s to 1980s)} = 35 \\\\text{ total achievements}\\n   \\\\]\\n\\nThus, the total number of achievements or contributions documented on the timeline is:\\n\\n#### 35',\n",
       "  'history': [],\n",
       "  'source': 'personas_math_easy_rekxuiw48apfqag8savjapvu'},\n",
       " {'instruction': 'Sarah, a writer of feminist literature, lives just down the street and loves having spontaneous book discussions with her neighbors. This month, she plans to host three such discussions. For the first discussion, she expects 8 participants. For the second, she anticipates a 25% increase in attendance compared to the first. For the third discussion, she predicts that the number of participants will be twice the number from the second discussion. How many participants in total does Sarah expect for all three discussions combined?',\n",
       "  'input': '',\n",
       "  'output': 'To solve the problem, we need to determine the number of participants Sarah expects for each discussion and then sum them up.\\n\\n1. **First Discussion:**\\n   - Sarah expects 8 participants.\\n\\n2. **Second Discussion:**\\n   - She anticipates a 25% increase in attendance compared to the first discussion.\\n   - To calculate this, we need to find 25% of 8 and add it to the initial 8 participants.\\n   - 25% of 8 is calculated as follows:\\n     \\\\[\\n     0.25 \\\\times 8 = 2\\n     \\\\]\\n   - Therefore, the number of participants for the second discussion is:\\n     \\\\[\\n     8 + 2 = 10\\n     \\\\]\\n\\n3. **Third Discussion:**\\n   - Sarah predicts that the number of participants will be twice the number from the second discussion.\\n   - Since the second discussion had 10 participants, the third discussion will have:\\n     \\\\[\\n     2 \\\\times 10 = 20\\n     \\\\]\\n\\n4. **Total Participants:**\\n   - To find the total number of participants for all three discussions, we sum the participants from each discussion:\\n     \\\\[\\n     8 + 10 + 20 = 38\\n     \\\\]\\n\\nTherefore, Sarah expects a total of 38 participants for all three discussions combined.\\n\\n#### \\n38',\n",
       "  'history': [],\n",
       "  'source': 'personas_math_easy_d4oxxbvpsa5kcp4lnfvwvysa'},\n",
       " {'instruction': \"Emma is a young musician who plays the French horn in her school orchestra, which has 12 members. She is a big fan of Hans Abrahamsen, and her favorite piece to play is one of his compositions that lasts 15 minutes. The orchestra is planning a concert where they will perform 5 different pieces, including Emma's favorite Hans Abrahamsen piece. If the total concert time is 1 hour and 20 minutes, how many minutes are allocated to the remaining 4 pieces?\",\n",
       "  'input': '',\n",
       "  'output': \"To solve this problem, we need to determine how many minutes are allocated to the remaining 4 pieces in the concert.\\n\\n1. **Identify the total concert time**: The total concert time is 1 hour and 20 minutes. We need to convert this into minutes:\\n   \\\\[\\n   1 \\\\text{ hour} = 60 \\\\text{ minutes}\\n   \\\\]\\n   \\\\[\\n   1 \\\\text{ hour and 20 minutes} = 60 \\\\text{ minutes} + 20 \\\\text{ minutes} = 80 \\\\text{ minutes}\\n   \\\\]\\n\\n2. **Identify the time allocated to Emma's favorite piece**: We are given that Emma's favorite piece lasts 15 minutes.\\n\\n3. **Calculate the time for the remaining 4 pieces**: Subtract the time for Emma's favorite piece from the total concert time to find the time allocated to the remaining 4 pieces:\\n   \\\\[\\n   \\\\text{Time for remaining pieces} = \\\\text{Total concert time} - \\\\text{Time for Emma's piece}\\n   \\\\]\\n   \\\\[\\n   \\\\text{Time for remaining pieces} = 80 \\\\text{ minutes} - 15 \\\\text{ minutes} = 65 \\\\text{ minutes}\\n   \\\\]\\n\\nTherefore, the time allocated to the remaining 4 pieces is 65 minutes.\\n\\n#### 65\",\n",
       "  'history': [],\n",
       "  'source': 'personas_math_easy_v3iadfzv5wq1cz34uxb77t4n'},\n",
       " {'instruction': 'A field officer is visiting a village where there are 120 households. She has identified that 1/3 of the households are in need of food supplies, 1/4 of the households require medical assistance, and 1/5 of the households need educational resources. Some households have overlapping needs, and she found that 10 households need both food and medical assistance, 8 households need both medical and educational resources, and 6 households need both food and educational resources. If 2 households need all three types of resources, how many unique households in total have been identified as needing any form of assistance?',\n",
       "  'input': '',\n",
       "  'output': \"To solve this problem, we will use the principle of Inclusion-Exclusion to determine the number of unique households needing any form of assistance.\\n\\nLet's define the following sets:\\n- Let \\\\( F \\\\) be the set of households needing food supplies.\\n- Let \\\\( M \\\\) be the set of households needing medical assistance.\\n- Let \\\\( E \\\\) be the set of households needing educational resources.\\n\\nFrom the problem, we know:\\n- \\\\( |F| = \\\\frac{1}{3} \\\\times 120 = 40 \\\\)\\n- \\\\( |M| = \\\\frac{1}{4} \\\\times 120 = 30 \\\\)\\n- \\\\( |E| = \\\\frac{1}{5} \\\\times 120 = 24 \\\\)\\n- \\\\( |F \\\\cap M| = 10 \\\\)\\n- \\\\( |M \\\\cap E| = 8 \\\\)\\n- \\\\( |F \\\\cap E| = 6 \\\\)\\n- \\\\( |F \\\\cap M \\\\cap E| = 2 \\\\)\\n\\nWe want to find the number of unique households needing any form of assistance, which is \\\\( |F \\\\cup M \\\\cup E| \\\\).\\n\\nUsing the principle of Inclusion-Exclusion, we have:\\n\\n\\\\[\\n|F \\\\cup M \\\\cup E| = |F| + |M| + |E| - |F \\\\cap M| - |M \\\\cap E| - |F \\\\cap E| + |F \\\\cap M \\\\cap E|\\n\\\\]\\n\\nSubstituting the known values:\\n\\n\\\\[\\n|F \\\\cup M \\\\cup E| = 40 + 30 + 24 - 10 - 8 - 6 + 2\\n\\\\]\\n\\nCalculating each term step-by-step:\\n\\n- \\\\( 40 + 30 + 24 = 94 \\\\)\\n- \\\\( 10 + 8 + 6 = 24 \\\\)\\n- So, \\\\( 94 - 24 + 2 = 72 \\\\)\\n\\nTherefore, the total number of unique households needing any form of assistance is:\\n\\n#### 72\",\n",
       "  'history': [],\n",
       "  'source': 'personas_math_easy_035dunpjiga3u007lu9hg6uu'},\n",
       " {'instruction': 'Jamie is a graphic designer who is working on creating visually appealing representations of ancient inscriptions for a museum exhibit. Each inscription design needs to be printed on a square canvas. Jamie has a total of 18 square canvases, and each canvas has a side length of 12 inches. \\n\\nTo enhance the visual effect, Jamie decides to add a border of 2 inches around each canvas. Jamie also wants to paint the border in a contrasting color. If the paint costs $0.20 per square inch, how much will Jamie spend on painting the borders for all 18 canvases?',\n",
       "  'input': '',\n",
       "  'output': 'To find out how much Jamie will spend on painting the borders for all 18 canvases, we need to perform the following steps:\\n\\n1. **Find the dimensions of the canvas with the border:**\\n   - Each canvas has a side length of 12 inches.\\n   - Jamie adds a 2-inch border around each canvas.\\n   - Therefore, the side length of the canvas with the border becomes:\\n     \\\\[\\n     12 \\\\text{ inches} + 2 \\\\text{ inches (border on one side)} + 2 \\\\text{ inches (border on the other side)} = 16 \\\\text{ inches}\\n     \\\\]\\n\\n2. **Calculate the area of the canvas with the border:**\\n   - Since the canvas with the border is square-shaped with a side length of 16 inches, its area is:\\n     \\\\[\\n     16 \\\\text{ inches} \\\\times 16 \\\\text{ inches} = 256 \\\\text{ square inches}\\n     \\\\]\\n\\n3. **Calculate the area of the original canvas without the border:**\\n   - The original canvas is also square with a side length of 12 inches, so its area is:\\n     \\\\[\\n     12 \\\\text{ inches} \\\\times 12 \\\\text{ inches} = 144 \\\\text{ square inches}\\n     \\\\]\\n\\n4. **Determine the area of the border:**\\n   - The area of the border is the difference between the area of the canvas with the border and the area of the original canvas:\\n     \\\\[\\n     256 \\\\text{ square inches} - 144 \\\\text{ square inches} = 112 \\\\text{ square inches}\\n     \\\\]\\n\\n5. **Calculate the total border area for all 18 canvases:**\\n   - Since we have 18 canvases, the total border area is:\\n     \\\\[\\n     18 \\\\times 112 \\\\text{ square inches} = 2016 \\\\text{ square inches}\\n     \\\\]\\n\\n6. **Calculate the total cost of painting the borders:**\\n   - The cost of painting is $0.20 per square inch.\\n   - Therefore, the total cost is:\\n     \\\\[\\n     2016 \\\\text{ square inches} \\\\times 0.20 \\\\text{ dollars/square inch} = 403.20 \\\\text{ dollars}\\n     \\\\]\\n\\nJamie will spend a total of $403.20 on painting the borders for all 18 canvases.\\n\\n#### \\n403.20',\n",
       "  'history': [],\n",
       "  'source': 'personas_math_easy_2glba5u88j777wwrfok1ljf7'},\n",
       " {'instruction': 'Sarah is a marketing executive for a skincare brand. She is analyzing market trends and consumer preferences. Last month, Sarah received feedback from 250 customers. Out of these, 40% expressed interest in anti-aging products, 30% in moisturizing products, and the rest in sun protection products. Additionally, Sarah found out that consumers who preferred anti-aging products were twice as likely to purchase than those interested in moisturizing or sun protection products. If 60% of the customers who preferred anti-aging products made a purchase, how many customers made a purchase of anti-aging products last month?',\n",
       "  'input': '',\n",
       "  'output': \"To solve the problem, we need to determine the number of customers who made a purchase of anti-aging products last month. Let's break it down step-by-step:\\n\\n1. **Calculate the number of customers interested in anti-aging products:**\\n   - The problem states that 40% of the 250 customers expressed interest in anti-aging products.\\n   - So, calculate 40% of 250:  \\n     \\\\[\\n     0.40 \\\\times 250 = 100\\n     \\\\]\\n   - Therefore, 100 customers were interested in anti-aging products.\\n\\n2. **Determine the number of customers who made a purchase:**\\n   - According to the problem, 60% of the customers who preferred anti-aging products made a purchase.\\n   - Calculate 60% of these 100 customers:  \\n     \\\\[\\n     0.60 \\\\times 100 = 60\\n     \\\\]\\n\\nTherefore, the number of customers who made a purchase of anti-aging products last month is 60.\\n\\n#### 60\",\n",
       "  'history': [],\n",
       "  'source': 'personas_math_easy_ggnhiru12b24ycd3mgkjcir0'},\n",
       " {'instruction': 'Leila, an Iranian culinary enthusiast and self-proclaimed foodie, is preparing a traditional Persian feast for her friends. She plans to make her favorite dish, Fesenjan, which requires 3 pomegranates for every 2 servings. If Leila wants to serve 12 friends and herself, how many pomegranates does she need to buy?',\n",
       "  'input': '',\n",
       "  'output': 'To determine the total number of pomegranates Leila needs to buy, we can follow these steps:\\n\\n1. **Determine the total number of servings required:**\\n   Leila wants to serve 12 friends and herself, so the total number of people to be served is:\\n   \\\\[\\n   12 + 1 = 13\\n   \\\\]\\n   Assuming each person gets one serving, Leila needs 13 servings.\\n\\n2. **Calculate the number of pomegranates needed per serving:**\\n   According to the problem, 3 pomegranates are needed for every 2 servings. Therefore, the number of pomegranates needed per serving is:\\n   \\\\[\\n   \\\\frac{3 \\\\text{ pomegranates}}{2 \\\\text{ servings}} = 1.5 \\\\text{ pomegranates per serving}\\n   \\\\]\\n\\n3. **Calculate the total number of pomegranates needed for 13 servings:**\\n   Multiply the number of servings by the number of pomegranates needed per serving:\\n   \\\\[\\n   13 \\\\text{ servings} \\\\times 1.5 \\\\text{ pomegranates per serving} = 19.5 \\\\text{ pomegranates}\\n   \\\\]\\n\\n4. **Determine the number of whole pomegranates to buy:**\\n   Since Leila cannot buy a fraction of a pomegranate, she needs to round up to the nearest whole number. Thus, she should purchase 20 pomegranates.\\n\\nTherefore, the total number of pomegranates Leila needs to buy is 20.\\n\\n#### 20',\n",
       "  'history': [],\n",
       "  'source': 'personas_math_easy_14kfiyil9e24dfcjnmujv4zu'},\n",
       " {'instruction': 'A military historian is analyzing the effects of disarmament on global stability by examining the reduction of military equipment in three different regions. In Region A, the number of tanks was reduced by 150 over the past year. In Region B, the number of tanks was reduced by twice that amount, and in Region C, the number of tanks was reduced by 50% more than Region A. How many tanks in total were reduced across all three regions?',\n",
       "  'input': '',\n",
       "  'output': \"To solve the given problem, follow these steps:\\n\\n1. **Determine the reduction in Region A:**\\n   - Region A had a reduction of 150 tanks.\\n\\n2. **Determine the reduction in Region B:**\\n   - Region B's reduction is twice that of Region A.\\n   - Therefore, the reduction in Region B is \\\\(2 \\\\times 150 = 300\\\\) tanks.\\n\\n3. **Determine the reduction in Region C:**\\n   - Region C's reduction is 50% more than Region A's reduction.\\n   - 50% more than 150 is calculated as follows:\\n     \\\\[\\n     150 + (0.5 \\\\times 150) = 150 + 75 = 225\\n     \\\\]\\n   - Therefore, the reduction in Region C is 225 tanks.\\n\\n4. **Calculate the total reduction across all regions:**\\n   - Add the reductions from all three regions:\\n     \\\\[\\n     150 \\\\text{ (Region A)} + 300 \\\\text{ (Region B)} + 225 \\\\text{ (Region C)} = 675\\n     \\\\]\\n\\nThus, the total number of tanks reduced across all three regions is 675.\\n\\n#### \\n675\",\n",
       "  'history': [],\n",
       "  'source': 'personas_math_easy_u3z86cz9q6bol8m5fcxy9cy0'}]"
      ]
     },
     "execution_count": 34,
     "metadata": {},
     "output_type": "execute_result"
    }
   ],
   "source": [
    "len(sft_data)\n",
    "sft_data[100:100+10]"
   ]
  },
  {
   "cell_type": "code",
   "execution_count": 1,
   "id": "869b2251-b4e0-4feb-bb05-760a1e623345",
   "metadata": {},
   "outputs": [
    {
     "ename": "NameError",
     "evalue": "name 'sft_data' is not defined",
     "output_type": "error",
     "traceback": [
      "\u001b[0;31m---------------------------------------------------------------------------\u001b[0m",
      "\u001b[0;31mNameError\u001b[0m                                 Traceback (most recent call last)",
      "Cell \u001b[0;32mIn[1], line 1\u001b[0m\n\u001b[0;32m----> 1\u001b[0m filtered_data \u001b[38;5;241m=\u001b[39m [item \u001b[38;5;28;01mfor\u001b[39;00m item \u001b[38;5;129;01min\u001b[39;00m \u001b[43msft_data\u001b[49m \u001b[38;5;28;01mif\u001b[39;00m \u001b[38;5;28mlen\u001b[39m(item\u001b[38;5;241m.\u001b[39mget(\u001b[38;5;124m\"\u001b[39m\u001b[38;5;124mhistory\u001b[39m\u001b[38;5;124m\"\u001b[39m, [])) \u001b[38;5;241m>\u001b[39m \u001b[38;5;241m0\u001b[39m]\n\u001b[1;32m      2\u001b[0m filtered_data\n",
      "\u001b[0;31mNameError\u001b[0m: name 'sft_data' is not defined"
     ]
    }
   ],
   "source": [
    "filtered_data = [item for item in sft_data if len(item.get(\"history\", [])) > 0]\n",
    "filtered_data"
   ]
  },
  {
   "cell_type": "code",
   "execution_count": null,
   "id": "58d06a1c-1c83-4364-ac17-ba8844e8b502",
   "metadata": {},
   "outputs": [],
   "source": []
  }
 ],
 "metadata": {
  "kernelspec": {
   "display_name": "Python 3 (ipykernel)",
   "language": "python",
   "name": "python3"
  },
  "language_info": {
   "codemirror_mode": {
    "name": "ipython",
    "version": 3
   },
   "file_extension": ".py",
   "mimetype": "text/x-python",
   "name": "python",
   "nbconvert_exporter": "python",
   "pygments_lexer": "ipython3",
   "version": "3.10.14"
  }
 },
 "nbformat": 4,
 "nbformat_minor": 5
}
